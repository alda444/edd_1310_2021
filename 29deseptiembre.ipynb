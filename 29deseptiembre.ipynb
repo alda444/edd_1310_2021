{
  "nbformat": 4,
  "nbformat_minor": 0,
  "metadata": {
    "colab": {
      "name": "Untitled0.ipynb",
      "provenance": [],
      "toc_visible": true,
      "authorship_tag": "ABX9TyOV68OiQbH34yPwTRGbwbRp",
      "include_colab_link": true
    },
    "kernelspec": {
      "name": "python3",
      "display_name": "Python 3"
    }
  },
  "cells": [
    {
      "cell_type": "markdown",
      "metadata": {
        "id": "view-in-github",
        "colab_type": "text"
      },
      "source": [
        "<a href=\"https://colab.research.google.com/github/alda444/edd_1310_2021/blob/master/29deseptiembre.ipynb\" target=\"_parent\"><img src=\"https://colab.research.google.com/assets/colab-badge.svg\" alt=\"Open In Colab\"/></a>"
      ]
    },
    {
      "cell_type": "code",
      "metadata": {
        "id": "qCd-ZKkC6P8P"
      },
      "source": [
        "edad=10\n",
        "nombre=\"Aldair\""
      ],
      "execution_count": 2,
      "outputs": []
    },
    {
      "cell_type": "code",
      "metadata": {
        "id": "9lfcVZtJACLS",
        "outputId": "1115cfac-bbdf-47e6-b771-3e873b10a564",
        "colab": {
          "base_uri": "https://localhost:8080/",
          "height": 90
        }
      },
      "source": [
        "print(edad)\n",
        "colores=[\"rojo\", \"azul\", \"verde\", \"morado\", \"violeta\"]\n",
        "print(colores)\n",
        "print(colores[3])\n",
        "print(colores[3][2:4])"
      ],
      "execution_count": 3,
      "outputs": [
        {
          "output_type": "stream",
          "text": [
            "10\n",
            "['rojo', 'azul', 'verde', 'morado', 'violeta']\n",
            "morado\n",
            "ra\n"
          ],
          "name": "stdout"
        }
      ]
    },
    {
      "cell_type": "code",
      "metadata": {
        "id": "-IiDxgRnAKSN",
        "outputId": "586d0d72-0104-4aaf-f1f5-5b7a1c46d71e",
        "colab": {
          "base_uri": "https://localhost:8080/",
          "height": 90
        }
      },
      "source": [
        "for i in range(0,4,1):\n",
        "  print(colores[i])"
      ],
      "execution_count": 4,
      "outputs": [
        {
          "output_type": "stream",
          "text": [
            "rojo\n",
            "azul\n",
            "verde\n",
            "morado\n"
          ],
          "name": "stdout"
        }
      ]
    },
    {
      "cell_type": "code",
      "metadata": {
        "id": "JssLR5XgAVpH",
        "outputId": "65629ca8-00af-489a-cc16-f25d80d05c04",
        "colab": {
          "base_uri": "https://localhost:8080/",
          "height": 108
        }
      },
      "source": [
        "for color in colores:\n",
        "  print(color)"
      ],
      "execution_count": 5,
      "outputs": [
        {
          "output_type": "stream",
          "text": [
            "rojo\n",
            "azul\n",
            "verde\n",
            "morado\n",
            "violeta\n"
          ],
          "name": "stdout"
        }
      ]
    },
    {
      "cell_type": "code",
      "metadata": {
        "id": "TID51gqHAXh7",
        "outputId": "d0c078e8-6cec-4975-ba5f-cc52795a9550",
        "colab": {
          "base_uri": "https://localhost:8080/",
          "height": 126
        }
      },
      "source": [
        "for m in range(0,len(nombre),1):\n",
        "  print(nombre[m])"
      ],
      "execution_count": 6,
      "outputs": [
        {
          "output_type": "stream",
          "text": [
            "A\n",
            "l\n",
            "d\n",
            "a\n",
            "i\n",
            "r\n"
          ],
          "name": "stdout"
        }
      ]
    },
    {
      "cell_type": "markdown",
      "metadata": {
        "id": "tUHukOH9AlJS"
      },
      "source": [
        "#Que es Markdown\n",
        "Markdown es un lenguaje de marcado para documentar codigo.El objetivo es simplificar la escritura HTML\n",
        "___\n",
        "**negritas**\n",
        "---\n",
        "o\n",
        "***\n",
        "Mas informacion en : [GitHub Cheatsear Markdown](https://github.com/adam-p/markdown-here/wiki/Markdown-Cheatsheet) \n",
        "\n",
        "![Barcelona](https://upload.wikimedia.org/wikipedia/commons/f/fa/Apple_logo_black.svg)"
      ]
    }
  ]
}