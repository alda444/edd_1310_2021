{
  "nbformat": 4,
  "nbformat_minor": 0,
  "metadata": {
    "colab": {
      "name": "6deoctubre.ipynb",
      "provenance": [],
      "authorship_tag": "ABX9TyMgIfJC2sCwgIRWftRmQenl",
      "include_colab_link": true
    },
    "kernelspec": {
      "name": "python3",
      "display_name": "Python 3"
    }
  },
  "cells": [
    {
      "cell_type": "markdown",
      "metadata": {
        "id": "view-in-github",
        "colab_type": "text"
      },
      "source": [
        "<a href=\"https://colab.research.google.com/github/alda444/edd_1310_2021/blob/master/6deoctubre.ipynb\" target=\"_parent\"><img src=\"https://colab.research.google.com/assets/colab-badge.svg\" alt=\"Open In Colab\"/></a>"
      ]
    },
    {
      "cell_type": "code",
      "metadata": {
        "id": "rSbvyV9Nqavz",
        "outputId": "27621593-e47b-43c3-de97-6074bf3540a2",
        "colab": {
          "base_uri": "https://localhost:8080/",
          "height": 363
        }
      },
      "source": [
        "#String continuacion\n",
        "\n",
        "numeros_txt=\"   1, 2, 3, 4  ,5  ,35   ,15   ,12\"\n",
        "print(numeros_txt)\n",
        "numeros_txt=numeros_txt.lstrip().split(\",\")\n",
        "print (numeros_txt)\n",
        "\n",
        "for j in range(len(numeros_txt)):\n",
        "  numeros_txt[ j ]=int(numeros_txt[j].strip())\n",
        "print(numeros_txt)\n",
        "\n",
        "#funcion range\n",
        "#range (inicio, stop, incremento )\n",
        "print (range(1,10,3))\n",
        "rango= range (1,10,2)\n",
        "\n",
        "for x in rango:\n",
        "    print(x) \n",
        "\n",
        "rango= range(10)\n",
        "for x in rango:\n",
        "    print(x)"
      ],
      "execution_count": 17,
      "outputs": [
        {
          "output_type": "stream",
          "text": [
            "   1, 2, 3, 4  ,5  ,35   ,15   ,12\n",
            "['1', ' 2', ' 3', ' 4  ', '5  ', '35   ', '15   ', '12']\n",
            "[1, 2, 3, 4, 5, 35, 15, 12]\n",
            "range(1, 10, 3)\n",
            "1\n",
            "3\n",
            "5\n",
            "7\n",
            "9\n",
            "0\n",
            "1\n",
            "2\n",
            "3\n",
            "4\n",
            "5\n",
            "6\n",
            "7\n",
            "8\n",
            "9\n"
          ],
          "name": "stdout"
        }
      ]
    },
    {
      "cell_type": "markdown",
      "metadata": {
        "id": "3AQnjbTWxEr7"
      },
      "source": [
        "# listas\n",
        "- mutables\n",
        "- declaran con []\n",
        "- selector [int]\n",
        "- pueden ser de caulquier tipo y mezcaldo\n",
        "\n",
        "# tuplas\n",
        "- No mutables\n",
        "- declaran con ()\n",
        "- selectos [int]\n",
        "\n",
        "# diccionarios\n",
        "-s on conjuntos de pares llave :valor\n",
        "- son mutables\n",
        "- Equivalentes a los objetoa JSON de Javascritp\n",
        "# conjuntos\n",
        "- Representacion de la teroia de conjuntos"
      ]
    },
    {
      "cell_type": "code",
      "metadata": {
        "id": "A7HPx2k-yN6K",
        "outputId": "ca80b047-7e98-413b-d64f-1be7e50aa92a",
        "colab": {
          "base_uri": "https://localhost:8080/",
          "height": 145
        }
      },
      "source": [
        "# Listas\n",
        "frutas=[\"Pera\",\"Manzana\",\"fresa\",\"Kiwi\",\"Naranja\"]\n",
        "print(frutas)\n",
        "cosas=[\"cuadeno\", 2 , 3.1416 , True , False , [\"Rojo\" ,\"Azul\"]]\n",
        "print(cosas)\n",
        "frutas[2]=\"Fresa\"  #futas[2] =frutas[2].capitalize()\n",
        "print(frutas)\n",
        "\n",
        "#agregar a una lista\n",
        "frutas.append(\"Aguacate\")  #agregar una fruta al final\n",
        "print(frutas)\n",
        "frutas.insert(2,\"Sandia\")  #insertar una fruta en la poscion qu quieras(insert)\n",
        "print(frutas)\n",
        "\n",
        "#concatenar listas\n",
        "fecha = [\"06\",\"10\",\"2020\"]  # 06/10/2020\n",
        "print(fecha)\n",
        "fecha_str= \"/\".join(fecha)\n",
        "print(fecha_str)\n",
        "\n",
        "\n"
      ],
      "execution_count": 27,
      "outputs": [
        {
          "output_type": "stream",
          "text": [
            "['Pera', 'Manzana', 'fresa', 'Kiwi', 'Naranja']\n",
            "['cuadeno', 2, 3.1416, True, False, ['Rojo', 'Azul']]\n",
            "['Pera', 'Manzana', 'Fresa', 'Kiwi', 'Naranja']\n",
            "['Pera', 'Manzana', 'Fresa', 'Kiwi', 'Naranja', 'Aguacate']\n",
            "['Pera', 'Manzana', 'Sandia', 'Fresa', 'Kiwi', 'Naranja', 'Aguacate']\n",
            "['06', '10', '2020']\n",
            "06/10/2020\n"
          ],
          "name": "stdout"
        }
      ]
    },
    {
      "cell_type": "code",
      "metadata": {
        "id": "fXbKcBYB3WeI",
        "outputId": "2638a3a5-87b4-4859-ca8b-e8f713ea9efb",
        "colab": {
          "base_uri": "https://localhost:8080/",
          "height": 199
        }
      },
      "source": [
        "#eliminar elementos\n",
        "cosas=[\"cuadeno\", 2 , 3.1416 , True , False , [\"Rojo\" ,\"Azul\"]]\n",
        "print(cosas)\n",
        "cosas.append(\"Libro\")\n",
        "cosas.append(\"Lapiz\")\n",
        "print(cosas)\n",
        "algo= cosas.pop()\n",
        "print(cosas)\n",
        "print(algo)\n",
        "\n",
        "algo = cosas.pop(2)\n",
        "print(cosas)\n",
        "print(algo)\n",
        "cosas.remove(2)\n",
        "print(cosas)\n",
        "\n",
        "#vaciar una lista\n",
        "\n",
        "#cosas.clear()\n",
        "print(cosas)\n",
        "\n",
        "#ordenar las listas\n",
        "print(frutas)\n",
        "frutas.sort()\n",
        "print(frutas)\n",
        "\n"
      ],
      "execution_count": 38,
      "outputs": [
        {
          "output_type": "stream",
          "text": [
            "['cuadeno', 2, 3.1416, True, False, ['Rojo', 'Azul']]\n",
            "['cuadeno', 2, 3.1416, True, False, ['Rojo', 'Azul'], 'Libro', 'Lapiz']\n",
            "['cuadeno', 2, 3.1416, True, False, ['Rojo', 'Azul'], 'Libro']\n",
            "Lapiz\n",
            "['cuadeno', 2, True, False, ['Rojo', 'Azul'], 'Libro']\n",
            "3.1416\n",
            "['cuadeno', True, False, ['Rojo', 'Azul'], 'Libro']\n",
            "['cuadeno', True, False, ['Rojo', 'Azul'], 'Libro']\n",
            "['Aguacate', 'Fresa', 'Kiwi', 'Manzana', 'Naranja', 'Pera', 'Sandia']\n",
            "['Aguacate', 'Fresa', 'Kiwi', 'Manzana', 'Naranja', 'Pera', 'Sandia']\n"
          ],
          "name": "stdout"
        }
      ]
    },
    {
      "cell_type": "code",
      "metadata": {
        "id": "5863Lf337FSD",
        "outputId": "46d398c3-826f-4557-d7f6-42e46f0abd4a",
        "colab": {
          "base_uri": "https://localhost:8080/",
          "height": 126
        }
      },
      "source": [
        "#slicing\n",
        "cosas=[\"cuadeno\", 2 , 3.1416 , True , False , [\"Rojo\" ,\"Azul\"]]\n",
        "print(cosas[3:5:1])\n",
        "print(cosas)\n",
        "print(cosas[0][3:5:1])\n",
        "\n",
        "numeros = [1,2,3,4,5,6,7,8,9,10,11,12,13,14,15]\n",
        "print(numeros[8:13:])\n",
        "\n",
        "#sustituir rebanadas  -2,-2 ->[1,2,3,4,5,6,7,-2,-2,13,14,15]\n",
        "numeros[8:13:] = [-2,-2]\n",
        "print(numeros)\n",
        "\n",
        "#preguntar por existencia\n",
        "print(100 in numeros)"
      ],
      "execution_count": 46,
      "outputs": [
        {
          "output_type": "stream",
          "text": [
            "[True, False]\n",
            "['cuadeno', 2, 3.1416, True, False, ['Rojo', 'Azul']]\n",
            "de\n",
            "[9, 10, 11, 12, 13]\n",
            "[1, 2, 3, 4, 5, 6, 7, 8, -2, -2, 14, 15]\n",
            "False\n"
          ],
          "name": "stdout"
        }
      ]
    },
    {
      "cell_type": "markdown",
      "metadata": {
        "id": "snXy7VOA-jPK"
      },
      "source": [
        "#listas multi dimension\n",
        "\n",
        "listas dentro de listas"
      ]
    },
    {
      "cell_type": "code",
      "metadata": {
        "id": "-AoBrktJ-p6y",
        "outputId": "560b0eea-bbc3-45ad-a7af-77ce5b239953",
        "colab": {
          "base_uri": "https://localhost:8080/",
          "height": 199
        }
      },
      "source": [
        "computadoras =[\"HP\",\"Mac Book Pro 17\",\"Mate book\",\"Lenovo legion\"]\n",
        "oss=[\"windows 10\",\"Linux\",\"Android\",\"ios\",]\n",
        "\n",
        "computo =  [computadoras, oss]\n",
        "print(computo[0])\n",
        "print(computo[1])\n",
        "print(computo[0][2])\n",
        "print(computo[0][2][0:5])\n",
        "print(computo[0][3][5::-1])\n",
        "print(computo[0][3][-8::-1])\n",
        "print(\"Linux\"in computo[1])\n",
        "dbms = [[\"Mysql\",\"Open Souce\" , False] ,[\"MS SQL Server\",\"de paga\",True]]\n",
        "computo.append(dbms)\n",
        "print(computo)\n",
        "print(computo[2][0][0])\n",
        "print(computo[2][1][1])\n"
      ],
      "execution_count": 58,
      "outputs": [
        {
          "output_type": "stream",
          "text": [
            "['HP', 'Mac Book Pro 17', 'Mate book', 'Lenovo legion']\n",
            "['windows 10', 'Linux', 'Android', 'ios']\n",
            "Mate book\n",
            "Mate \n",
            "ovoneL\n",
            "ovoneL\n",
            "True\n",
            "[['HP', 'Mac Book Pro 17', 'Mate book', 'Lenovo legion'], ['windows 10', 'Linux', 'Android', 'ios'], [['Mysql', 'Open Souce', False], ['MS SQL Server', 'de paga', True]]]\n",
            "Mysql\n",
            "de paga\n"
          ],
          "name": "stdout"
        }
      ]
    }
  ]
}