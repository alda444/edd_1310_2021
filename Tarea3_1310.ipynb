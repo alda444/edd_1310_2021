{
  "nbformat": 4,
  "nbformat_minor": 0,
  "metadata": {
    "colab": {
      "name": "Tarea3_1310.ipynb",
      "provenance": [],
      "authorship_tag": "ABX9TyNBICDhkw9tlVyNIzB8JNsx",
      "include_colab_link": true
    },
    "kernelspec": {
      "name": "python3",
      "display_name": "Python 3"
    }
  },
  "cells": [
    {
      "cell_type": "markdown",
      "metadata": {
        "id": "view-in-github",
        "colab_type": "text"
      },
      "source": [
        "<a href=\"https://colab.research.google.com/github/alda444/edd_1310_2021/blob/master/Tarea3_1310.ipynb\" target=\"_parent\"><img src=\"https://colab.research.google.com/assets/colab-badge.svg\" alt=\"Open In Colab\"/></a>"
      ]
    },
    {
      "cell_type": "code",
      "metadata": {
        "id": "sokkk6W46mps",
        "outputId": "019771c9-24ae-40f9-a424-dc152d479aad",
        "colab": {
          "base_uri": "https://localhost:8080/",
          "height": 51
        }
      },
      "source": [
        "class Persona:\n",
        "  def __init__(self, n, e, es):\n",
        "    self.__nombre= n\n",
        "    self.__edad= e\n",
        "    self.__estatura= es\n",
        "\n",
        "    \n",
        "  def dormir(self):\n",
        "     return self.__nombre+ \" se duerme a las 12 de la noche a los \"+self.__edad+\" porque dejan mucha tarea\"\n",
        "  def comer(self):\n",
        "     return self.__nombre+ \" come mucho danonino para alcanzar una estatura de \"+self.__estatura+\" y ser grande y fuerte\"\n",
        "gente=Persona(\"Aldair\", \"20\",\"1.70m\")\n",
        "print(gente.dormir())\n",
        "print(gente.comer())"
      ],
      "execution_count": 46,
      "outputs": [
        {
          "output_type": "stream",
          "text": [
            "Aldair se duerme a las 12 de la noche a los 20 porque dejan mucha tarea\n",
            "Aldair come mucho danonino para alcanzar una estatura de 1.70m y ser grande y fuerte\n"
          ],
          "name": "stdout"
        }
      ]
    },
    {
      "cell_type": "code",
      "metadata": {
        "id": "fU-SW9s0CdKo",
        "outputId": "6eac5514-2107-4c23-9d26-12fedfdd8153",
        "colab": {
          "base_uri": "https://localhost:8080/",
          "height": 51
        }
      },
      "source": [
        "class Celular:\n",
        "  def __init__(self, m, mo, em):\n",
        "    self.__marca= m\n",
        "    self.__modelo= mo\n",
        "    self.__espaciodememoria= em\n",
        "  def llamar(self):\n",
        "    return \"Llmame a mi \"+self.__marca + self.__modelo\n",
        "  def PonerAlarma(self):\n",
        "    return \"Ya no puedo poner la alarma para ir a la escuela por el almacenamiento de mi celular de \"+self.__espaciodememoria\n",
        "aparato= Celular(\"Samsung\", \" Galaxy S7+\",\"8GB\")\n",
        "print(aparato.llamar())\n",
        "print(aparato.PonerAlarma())"
      ],
      "execution_count": 45,
      "outputs": [
        {
          "output_type": "stream",
          "text": [
            "Llmame a mi Samsung Galaxy S7+\n",
            "Ya no puedo poner la alarma para ir a la escuela por el almacenamiento de mi celular de 8GB\n"
          ],
          "name": "stdout"
        }
      ]
    }
  ]
}