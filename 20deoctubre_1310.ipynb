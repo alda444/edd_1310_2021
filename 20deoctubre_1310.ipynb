{
  "nbformat": 4,
  "nbformat_minor": 0,
  "metadata": {
    "colab": {
      "name": "20deoctubre_1310.ipynb",
      "provenance": [],
      "authorship_tag": "ABX9TyPaszCS7ZO2cDQL5UQNmyOV",
      "include_colab_link": true
    },
    "kernelspec": {
      "name": "python3",
      "display_name": "Python 3"
    }
  },
  "cells": [
    {
      "cell_type": "markdown",
      "metadata": {
        "id": "view-in-github",
        "colab_type": "text"
      },
      "source": [
        "<a href=\"https://colab.research.google.com/github/alda444/edd_1310_2021/blob/master/20deoctubre_1310.ipynb\" target=\"_parent\"><img src=\"https://colab.research.google.com/assets/colab-badge.svg\" alt=\"Open In Colab\"/></a>"
      ]
    },
    {
      "cell_type": "code",
      "metadata": {
        "id": "T5O87BtNy-GQ",
        "outputId": "656e626b-8837-4938-85c1-17722bc45b44",
        "colab": {
          "base_uri": "https://localhost:8080/",
          "height": 283
        }
      },
      "source": [
        "archivo = open('numeros.txt','rt')\n",
        "for linea in archivo.readlines()[:3:]:\n",
        "   for trunc in linea.split(','):\n",
        "       print(int(trunc.strip()))"
      ],
      "execution_count": 50,
      "outputs": [
        {
          "output_type": "stream",
          "text": [
            "23\n",
            "23\n",
            "44\n",
            "55\n",
            "5\n"
          ],
          "name": "stdout"
        },
        {
          "output_type": "error",
          "ename": "ValueError",
          "evalue": "ignored",
          "traceback": [
            "\u001b[0;31m---------------------------------------------------------------------------\u001b[0m",
            "\u001b[0;31mValueError\u001b[0m                                Traceback (most recent call last)",
            "\u001b[0;32m<ipython-input-50-53cf48d612e8>\u001b[0m in \u001b[0;36m<module>\u001b[0;34m()\u001b[0m\n\u001b[1;32m      2\u001b[0m \u001b[0;32mfor\u001b[0m \u001b[0mlinea\u001b[0m \u001b[0;32min\u001b[0m \u001b[0marchivo\u001b[0m\u001b[0;34m.\u001b[0m\u001b[0mreadlines\u001b[0m\u001b[0;34m(\u001b[0m\u001b[0;34m)\u001b[0m\u001b[0;34m[\u001b[0m\u001b[0;34m:\u001b[0m\u001b[0;36m3\u001b[0m\u001b[0;34m:\u001b[0m\u001b[0;34m]\u001b[0m\u001b[0;34m:\u001b[0m\u001b[0;34m\u001b[0m\u001b[0;34m\u001b[0m\u001b[0m\n\u001b[1;32m      3\u001b[0m    \u001b[0;32mfor\u001b[0m \u001b[0mtrunc\u001b[0m \u001b[0;32min\u001b[0m \u001b[0mlinea\u001b[0m\u001b[0;34m.\u001b[0m\u001b[0msplit\u001b[0m\u001b[0;34m(\u001b[0m\u001b[0;34m','\u001b[0m\u001b[0;34m)\u001b[0m\u001b[0;34m:\u001b[0m\u001b[0;34m\u001b[0m\u001b[0;34m\u001b[0m\u001b[0m\n\u001b[0;32m----> 4\u001b[0;31m        \u001b[0mprint\u001b[0m\u001b[0;34m(\u001b[0m\u001b[0mint\u001b[0m\u001b[0;34m(\u001b[0m\u001b[0mtrunc\u001b[0m\u001b[0;34m.\u001b[0m\u001b[0mstrip\u001b[0m\u001b[0;34m(\u001b[0m\u001b[0;34m)\u001b[0m\u001b[0;34m)\u001b[0m\u001b[0;34m)\u001b[0m\u001b[0;34m\u001b[0m\u001b[0;34m\u001b[0m\u001b[0m\n\u001b[0m",
            "\u001b[0;31mValueError\u001b[0m: invalid literal for int() with base 10: ''"
          ]
        }
      ]
    },
    {
      "cell_type": "markdown",
      "metadata": {
        "id": "SpMOdt942nDQ"
      },
      "source": [
        "#sintaxis del for en python\n",
        "\n",
        "dos versiones de for\n",
        "\n",
        "- 1.range\n",
        "- 2.in iterador"
      ]
    },
    {
      "cell_type": "code",
      "metadata": {
        "id": "wzMVdAF-23Un",
        "outputId": "9e0ab72d-0935-4fff-e5e0-eb745be381b4",
        "colab": {
          "base_uri": "https://localhost:8080/",
          "height": 377
        }
      },
      "source": [
        "r = range(0,10,2)\n",
        "for x in r:\n",
        "  print(x)\n",
        "\n",
        "colores = ['rojo','rosa','azul','fucsia']\n",
        "\n",
        "for indice in range(0,len(colores),1): # for(indice =0;indice <4;indice++)\n",
        "  #print(colores[indice])\n",
        "  colores[indice]=colores[indice] + str(indice)\n",
        "\n",
        "  #for sobre un iterador\n",
        "  for col in colores:\n",
        "    print(col)\n",
        "\n"
      ],
      "execution_count": 51,
      "outputs": [
        {
          "output_type": "stream",
          "text": [
            "0\n",
            "2\n",
            "4\n",
            "6\n",
            "8\n",
            "rojo0\n",
            "rosa\n",
            "azul\n",
            "fucsia\n",
            "rojo0\n",
            "rosa1\n",
            "azul\n",
            "fucsia\n",
            "rojo0\n",
            "rosa1\n",
            "azul2\n",
            "fucsia\n",
            "rojo0\n",
            "rosa1\n",
            "azul2\n",
            "fucsia3\n"
          ],
          "name": "stdout"
        }
      ]
    },
    {
      "cell_type": "markdown",
      "metadata": {
        "id": "uu17IklL7_tR"
      },
      "source": [
        "#generadores\n",
        "\n",
        "[valor for x in range (10) ]\n",
        "\n",
        "'\n",
        "[[0,0,0],\n",
        " [0,0,0],\n",
        " [0,0,0]]\n",
        " '\n",
        "\n",
        " 3x3\n"
      ]
    },
    {
      "cell_type": "code",
      "metadata": {
        "id": "IaCU_UDy8UdK",
        "outputId": "24f32579-0f60-46e9-bb38-481e54c34b1f",
        "colab": {
          "base_uri": "https://localhost:8080/",
          "height": 34
        }
      },
      "source": [
        "lista=[[0,0,0] for x in range(3)]\n",
        "print (lista)"
      ],
      "execution_count": 34,
      "outputs": [
        {
          "output_type": "stream",
          "text": [
            "[[0, 0, 0], [0, 0, 0], [0, 0, 0]]\n"
          ],
          "name": "stdout"
        }
      ]
    },
    {
      "cell_type": "code",
      "metadata": {
        "id": "HIW0KFYL96FW",
        "outputId": "34d7aebf-904f-4421-b014-01d8a80caea0",
        "colab": {
          "base_uri": "https://localhost:8080/",
          "height": 34
        }
      },
      "source": [
        "ren = 3\n",
        "col = 3\n",
        "litsas = [ [0 for x in range(col)] for x in range(ren) ]\n",
        "print(lista)"
      ],
      "execution_count": 52,
      "outputs": [
        {
          "output_type": "stream",
          "text": [
            "[[0, 0, 0], [0, 0, 0], [0, 0, 0]]\n"
          ],
          "name": "stdout"
        }
      ]
    },
    {
      "cell_type": "markdown",
      "metadata": {
        "id": "LD82EWhG_HN0"
      },
      "source": [
        "# POO en Python\n",
        "- clase\n",
        "- creacion deobjetos\n",
        "- constructor\n",
        "- encapsulamiento\n",
        "- metodos\n",
        "-a tributos\n",
        "-herencia "
      ]
    },
    {
      "cell_type": "code",
      "metadata": {
        "id": "8_YtSdG8_Ycg",
        "outputId": "43ec4039-d312-44aa-b18b-170c9941d9b6",
        "colab": {
          "base_uri": "https://localhost:8080/",
          "height": 34
        }
      },
      "source": [
        "class Computadora:\n",
        "  def __init__(self, m, p):\n",
        "    self.marca= m\n",
        "    self.procesador= p\n",
        "  def to_string(self):\n",
        "    return \"Marca:\"+self.marca+\"Procesador:\"+self.procesador\n",
        "mi_pc= Computadora(\"Toshiba\", \"Intel i7\")\n",
        "mi_pc.marca=\"HP \"\n",
        "print(mi_pc.to_string())"
      ],
      "execution_count": 57,
      "outputs": [
        {
          "output_type": "stream",
          "text": [
            "Marca:HP Procesador:Intel i7\n"
          ],
          "name": "stdout"
        }
      ]
    }
  ]
}