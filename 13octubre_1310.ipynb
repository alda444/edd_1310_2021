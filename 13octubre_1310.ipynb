{
  "nbformat": 4,
  "nbformat_minor": 0,
  "metadata": {
    "colab": {
      "name": "13octubre_1310.ipynb",
      "provenance": [],
      "authorship_tag": "ABX9TyPqOAWl6x3ZnU+h1/Nsh/jf",
      "include_colab_link": true
    },
    "kernelspec": {
      "name": "python3",
      "display_name": "Python 3"
    }
  },
  "cells": [
    {
      "cell_type": "markdown",
      "metadata": {
        "id": "view-in-github",
        "colab_type": "text"
      },
      "source": [
        "<a href=\"https://colab.research.google.com/github/alda444/edd_1310_2021/blob/master/13octubre_1310.ipynb\" target=\"_parent\"><img src=\"https://colab.research.google.com/assets/colab-badge.svg\" alt=\"Open In Colab\"/></a>"
      ]
    },
    {
      "cell_type": "code",
      "metadata": {
        "id": "H7ZE8n9auGwm",
        "outputId": "06cbdb26-4730-494f-8d8e-15a68b109cb2",
        "colab": {
          "base_uri": "https://localhost:8080/",
          "height": 110
        }
      },
      "source": [
        "alumno = { \n",
        "          \"num_cta\" : 303030303 ,\n",
        "          \"carrera\" : \"ICO\",\n",
        "          \"promedio\" : 9.8,\n",
        "          \"materias\" :[\"EDD\",\"CyP\",\"Calidad\",\"Emprendimiento\"],\n",
        "          \"direccion\" : { \n",
        "                            \"calle\":\"rancho seco\",\n",
        "                            \"numero\" : 23 ,\n",
        "                            \"delegacion\" : \"Neza\",\n",
        "                            \"estado\" : {\n",
        "                                        \"id\" : 15 ,\n",
        "                                        \"nombre\" : \"Estado de Máxico\" ,\n",
        "                                        \"nombre_corto\" : \"EdoMex\"\n",
        "                                        } ,\n",
        "                            \"CP\":57170\n",
        "\n",
        "                        } \n",
        "          }\n",
        "print(alumno)\n",
        "alumno['carrera']=\"Ingenieria en computacion\"\n",
        "print(alumno)\n",
        "alumno['nombre_completo']={'primer':\"Juan\",\n",
        "                          'segundo':\"Pedro\",\n",
        "                          \"materno\":\"Perez\",\n",
        "                          \"paterno\":\"Gomez\"\n",
        "                          }\n",
        "        \n",
        "alumno['semestre']=3\n",
        "print(alumno)\n",
        "\n",
        "print(f\"{alumno['nombre_completo']['primer']} {alumno['nombre_completo']['segundo']}\")\n",
        "\n"
      ],
      "execution_count": 5,
      "outputs": [
        {
          "output_type": "stream",
          "text": [
            "{'num_cta': 303030303, 'carrera': 'ICO', 'promedio': 9.8, 'materias': ['EDD', 'CyP', 'Calidad', 'Emprendimiento'], 'direccion': {'calle': 'rancho seco', 'numero': 23, 'delegacion': 'Neza', 'estado': {'id': 15, 'nombre': 'Estado de Máxico', 'nombre_corto': 'EdoMex'}, 'CP': 57170}}\n",
            "{'num_cta': 303030303, 'carrera': 'Ingenieria en computacion', 'promedio': 9.8, 'materias': ['EDD', 'CyP', 'Calidad', 'Emprendimiento'], 'direccion': {'calle': 'rancho seco', 'numero': 23, 'delegacion': 'Neza', 'estado': {'id': 15, 'nombre': 'Estado de Máxico', 'nombre_corto': 'EdoMex'}, 'CP': 57170}}\n",
            "{'num_cta': 303030303, 'carrera': 'Ingenieria en computacion', 'promedio': 9.8, 'materias': ['EDD', 'CyP', 'Calidad', 'Emprendimiento'], 'direccion': {'calle': 'rancho seco', 'numero': 23, 'delegacion': 'Neza', 'estado': {'id': 15, 'nombre': 'Estado de Máxico', 'nombre_corto': 'EdoMex'}, 'CP': 57170}, 'nombre_completo': {'primer': 'Juan', 'segundo': 'Pedro', 'materno': 'Perez', 'paterno': 'Gomez'}, 'semestre': 3}\n",
            "Juan Pedro\n"
          ],
          "name": "stdout"
        }
      ]
    },
    {
      "cell_type": "code",
      "metadata": {
        "id": "bXyUfG3jx-D0",
        "outputId": "f4e72777-eacb-4525-dc0e-3e5bc4cc9a41",
        "colab": {
          "base_uri": "https://localhost:8080/",
          "height": 455
        }
      },
      "source": [
        "#Key(), values() y items()\n",
        "\n",
        "llaves= alumno.keys()\n",
        "print(llaves)\n",
        "for llave in llaves:\n",
        "  print(llave.upper())\n",
        "\n",
        "valores=alumno.values()\n",
        "for val in valores:\n",
        "    print(val)\n",
        "\n",
        "pares=alumno.items()\n",
        "print(pares)\n",
        "for elem in pares:\n",
        "  print(f\"el campo {elem[0]} tiene el valor{elem[1]}\")\n",
        "  "
      ],
      "execution_count": 16,
      "outputs": [
        {
          "output_type": "stream",
          "text": [
            "dict_keys(['num_cta', 'carrera', 'promedio', 'materias', 'direccion', 'nombre_completo', 'semestre'])\n",
            "NUM_CTA\n",
            "CARRERA\n",
            "PROMEDIO\n",
            "MATERIAS\n",
            "DIRECCION\n",
            "NOMBRE_COMPLETO\n",
            "SEMESTRE\n",
            "303030303\n",
            "Ingenieria en computacion\n",
            "9.8\n",
            "['EDD', 'CyP', 'Calidad', 'Emprendimiento']\n",
            "{'calle': 'rancho seco', 'numero': 23, 'delegacion': 'Neza', 'estado': {'id': 15, 'nombre': 'Estado de Máxico', 'nombre_corto': 'EdoMex'}, 'CP': 57170}\n",
            "{'primer': 'Juan', 'segundo': 'Pedro', 'materno': 'Perez', 'paterno': 'Gomez'}\n",
            "3\n",
            "dict_items([('num_cta', 303030303), ('carrera', 'Ingenieria en computacion'), ('promedio', 9.8), ('materias', ['EDD', 'CyP', 'Calidad', 'Emprendimiento']), ('direccion', {'calle': 'rancho seco', 'numero': 23, 'delegacion': 'Neza', 'estado': {'id': 15, 'nombre': 'Estado de Máxico', 'nombre_corto': 'EdoMex'}, 'CP': 57170}), ('nombre_completo', {'primer': 'Juan', 'segundo': 'Pedro', 'materno': 'Perez', 'paterno': 'Gomez'}), ('semestre', 3)])\n",
            "el campo num_cta tiene el valor303030303\n",
            "el campo carrera tiene el valorIngenieria en computacion\n",
            "el campo promedio tiene el valor9.8\n",
            "el campo materias tiene el valor['EDD', 'CyP', 'Calidad', 'Emprendimiento']\n",
            "el campo direccion tiene el valor{'calle': 'rancho seco', 'numero': 23, 'delegacion': 'Neza', 'estado': {'id': 15, 'nombre': 'Estado de Máxico', 'nombre_corto': 'EdoMex'}, 'CP': 57170}\n",
            "el campo nombre_completo tiene el valor{'primer': 'Juan', 'segundo': 'Pedro', 'materno': 'Perez', 'paterno': 'Gomez'}\n",
            "el campo semestre tiene el valor3\n"
          ],
          "name": "stdout"
        }
      ]
    },
    {
      "cell_type": "code",
      "metadata": {
        "id": "Q9skfQu50_tM",
        "outputId": "0d448f0f-bda1-4c3a-f0dd-b89a2ce9d4ae",
        "colab": {
          "base_uri": "https://localhost:8080/",
          "height": 35
        }
      },
      "source": [
        "#Concatenar diccionarios\n",
        "computadora ={\"procesador\":\"intel i7\",\"ram\":\"kington 128Gb\"}\n",
        "otros={\"monitor\":\"LG 49\\\"\",\"hd\":\"Toshiba 1TB\"}\n",
        "computadora.update(otros)\n",
        "print(computadora)"
      ],
      "execution_count": 19,
      "outputs": [
        {
          "output_type": "stream",
          "text": [
            "{'procesador': 'intel i7', 'ram': 'kington 128Gb', 'monitor': 'LG 49\"', 'hd': 'Toshiba 1TB'}\n"
          ],
          "name": "stdout"
        }
      ]
    },
    {
      "cell_type": "markdown",
      "metadata": {
        "id": "-GYP40zv2oN_"
      },
      "source": [
        "#Funciones\n",
        "- unidades de codigo reutilizable\n",
        "- Es un mecanismo de organizacion de codigo\n",
        "- Una funcion toma de 0 a n parametros de entrada\n",
        "- Tiene una sola salida (return) de cualquier tipo de dato\n",
        "- Solo puedes hacer 2 cosas\n",
        "       - definirla\n",
        "       - llamarla\n",
        "  -Se define con la palabra reservada 'def'"
      ]
    },
    {
      "cell_type": "code",
      "metadata": {
        "id": "LjC73Fdz39kC",
        "outputId": "9d86eeda-970b-4b5d-a4e0-22dc5ac13066",
        "colab": {
          "base_uri": "https://localhost:8080/",
          "height": 199
        }
      },
      "source": [
        "def sumar (x, y):\n",
        "    resultado= x+y\n",
        "    return resultado\n",
        "\n",
        "def saludar( nombre ):\n",
        "    print(f\"Hola {nombre},¿Como estas?\")\n",
        "    \n",
        "#procesar None\n",
        "\n",
        "def multiplicar(valor, veces):\n",
        "   if valor != None:\n",
        "       c= valor * veces\n",
        "   else:\n",
        "       c= \"Operacion no valida\"\n",
        "   return c\n",
        "\n",
        "def operacion (a, b, c):\n",
        "  res = a + (b/c)\n",
        "  return res\n",
        "  \n",
        "print(sumar(10,5))\n",
        "print(sumar(2,6))\n",
        "c= sumar(3,7)\n",
        "print(c)\n",
        "saludar(\"Jesus\")\n",
        "print(saludar('Jose'))\n",
        "print(multiplicar(None,6))\n",
        "\n",
        "print(operacion(2,9,3))\n",
        "print(operacion(2,3,9))\n",
        "\n",
        "print(operacion(a=2,c=3,b=9))"
      ],
      "execution_count": 48,
      "outputs": [
        {
          "output_type": "stream",
          "text": [
            "15\n",
            "8\n",
            "10\n",
            "Hola Jesus,¿Como estas?\n",
            "Hola Jose,¿Como estas?\n",
            "None\n",
            "Operacion no valida\n",
            "5.0\n",
            "2.3333333333333335\n",
            "5.0\n"
          ],
          "name": "stdout"
        }
      ]
    },
    {
      "cell_type": "code",
      "metadata": {
        "id": "Xhoq8nsa_hO0",
        "outputId": "7ea2059e-70ee-42ee-da9f-698ef2d8f767",
        "colab": {
          "base_uri": "https://localhost:8080/",
          "height": 290
        }
      },
      "source": [
        "#Valores por defecto\n",
        "def comanda( primer, fuerte , postre=\"Galleta de animalito\"):\n",
        "  print(f\"De entrada pidio: {primer}\")\n",
        "  print(f\"De plato fuerte:{fuerte}\")\n",
        "  print(f\"Postre:{postre}\")\n",
        "\n",
        "#Argumentos posicionales con tuplas\n",
        "def comanda_2( *opciones):\n",
        "  print(opciones)\n",
        "  print(f\"De entrada pidio: {opciones[0]}\")\n",
        "  print(f\"De plato fuerte:{opciones[1]}\")\n",
        "  print(f\"Postre:{opciones[2]}\")\n",
        "  print(\"\\nIndicaciones extra:\")\n",
        "  for ind in opciones[3::]:\n",
        "    print(f\"\\t {ind}\")\n",
        "\n",
        "\n",
        "\n",
        "\n",
        "comanda(\"sopa aguada\",\"Tortas de papa\", \"Gelatina de limon\")\n",
        "comanda(\"sopa aguada\",\"Tortas de papa\")\n",
        "comanda_2(\"sopa aguada\",\"Tortas de papa\", \"Gelatina de limon\",\"las tortas bien doradas\",\"traer dos limones\",\"agua con hielo\")"
      ],
      "execution_count": 54,
      "outputs": [
        {
          "output_type": "stream",
          "text": [
            "De entrada pidio: sopa aguada\n",
            "De plato fuerte:Tortas de papa\n",
            "Postre:Gelatina de limon\n",
            "De entrada pidio: sopa aguada\n",
            "De plato fuerte:Tortas de papa\n",
            "Postre:Galleta de animalito\n",
            "('sopa aguada', 'Tortas de papa', 'Gelatina de limon', 'las tortas bien doradas', 'traer dos limones', 'agua con hielo')\n",
            "De entrada pidio: sopa aguada\n",
            "De plato fuerte:Tortas de papa\n",
            "Postre:Gelatina de limon\n",
            "\n",
            "Indicaciones extra:\n",
            "\t las tortas bien doradas\n",
            "\t traer dos limones\n",
            "\t agua con hielo\n"
          ],
          "name": "stdout"
        }
      ]
    },
    {
      "cell_type": "code",
      "metadata": {
        "id": "4Ytpvo3ZCMqM",
        "outputId": "186874c5-8f32-4b87-f159-640c5f92d5cc",
        "colab": {
          "base_uri": "https://localhost:8080/",
          "height": 145
        }
      },
      "source": [
        "#argumentos posicionales con diccionarios**\n",
        "def comanda_3( **opciones ):\n",
        "     print(opciones)\n",
        "     for op in opciones.items():\n",
        "       print(f\"{op[0]} -> {op[1]}\")\n",
        "\n",
        "comanda_3(primer=\"sopa aguada\",fuerte=\"Tortas de papa\",postre= \"Gelatina de limon\",extra1=\"las tortas bien doradas\",extra2=\"traer dos limones\",extra3=\"agua con hielo\")"
      ],
      "execution_count": 62,
      "outputs": [
        {
          "output_type": "stream",
          "text": [
            "{'primer': 'sopa aguada', 'fuerte': 'Tortas de papa', 'postre': 'Gelatina de limon', 'extra1': 'las tortas bien doradas', 'extra2': 'traer dos limones', 'extra3': 'agua con hielo'}\n",
            "primer -> sopa aguada\n",
            "fuerte -> Tortas de papa\n",
            "postre -> Gelatina de limon\n",
            "extra1 -> las tortas bien doradas\n",
            "extra2 -> traer dos limones\n",
            "extra3 -> agua con hielo\n"
          ],
          "name": "stdout"
        }
      ]
    }
  ]
}