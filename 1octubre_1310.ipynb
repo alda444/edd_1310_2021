{
  "nbformat": 4,
  "nbformat_minor": 0,
  "metadata": {
    "colab": {
      "name": "1octubre_1310.ipynb",
      "provenance": [],
      "authorship_tag": "ABX9TyMeqSSqgmIhvfGcZLOqNvax",
      "include_colab_link": true
    },
    "kernelspec": {
      "name": "python3",
      "display_name": "Python 3"
    }
  },
  "cells": [
    {
      "cell_type": "markdown",
      "metadata": {
        "id": "view-in-github",
        "colab_type": "text"
      },
      "source": [
        "<a href=\"https://colab.research.google.com/github/alda444/edd_1310_2021/blob/master/1octubre_1310.ipynb\" target=\"_parent\"><img src=\"https://colab.research.google.com/assets/colab-badge.svg\" alt=\"Open In Colab\"/></a>"
      ]
    },
    {
      "cell_type": "markdown",
      "metadata": {
        "id": "05YZK4Bc7rud"
      },
      "source": [
        "## Intro Python 3\n",
        "###variables\n",
        "tipo dinamico\n",
        "escuela = \"FES Aragon\"\n",
        "\n"
      ]
    },
    {
      "cell_type": "code",
      "metadata": {
        "id": "_Ej5J6i37MnQ",
        "outputId": "c3952bc6-4093-4801-9e3d-5dbb36eb215e",
        "colab": {
          "base_uri": "https://localhost:8080/",
          "height": 199
        }
      },
      "source": [
        "escuela = \"FES Aragón\"\n",
        "print(escuela)\n",
        "print(\"---------\")\n",
        "edad = 13\n",
        "estatura = 1.67\n",
        "fumador = True\n",
        "frase = \"\"\"\n",
        "Esta es \n",
        "una \n",
        "frase\n",
        "de multiples líneas\n",
        "y tambien es\n",
        "un tipo de dato\n",
        "\"\"\"\n",
        "print(frase)\n",
        "nombre = 'jose'\n",
        "nombre_completo = \"jose sosa cardenas\"\n",
        "\n"
      ],
      "execution_count": 5,
      "outputs": [
        {
          "output_type": "stream",
          "text": [
            "FES Aragón\n",
            "---------\n",
            "\n",
            "Esta es \n",
            "una \n",
            "frase\n",
            "de multiples líneas\n",
            "y tambien es\n",
            "un tipo de dato\n",
            "\n"
          ],
          "name": "stdout"
        }
      ]
    },
    {
      "cell_type": "markdown",
      "metadata": {
        "id": "2UBz4-g390tn"
      },
      "source": [
        "#Print\n",
        "con comas,\n",
        "\n",
        "con signo +\n",
        "\n",
        "con format ()\n",
        "\n",
        "con el operador f\"\""
      ]
    },
    {
      "cell_type": "code",
      "metadata": {
        "id": "KLGQwk5r-EAr",
        "outputId": "40fefcca-f973-4197-bf9a-c7a8afa5fd67",
        "colab": {
          "base_uri": "https://localhost:8080/",
          "height": 35
        }
      },
      "source": [
        "print (nombre, edad)"
      ],
      "execution_count": 7,
      "outputs": [
        {
          "output_type": "stream",
          "text": [
            "jose 13\n"
          ],
          "name": "stdout"
        }
      ]
    },
    {
      "cell_type": "code",
      "metadata": {
        "id": "MeZlRcOU_BwE",
        "outputId": "229bb096-b51b-423a-970a-fc51ddc97e88",
        "colab": {
          "base_uri": "https://localhost:8080/",
          "height": 54
        }
      },
      "source": [
        "# + concatena\n",
        "print (nombre+str(edad))\n",
        "print (nombre+nombre_completo)"
      ],
      "execution_count": 9,
      "outputs": [
        {
          "output_type": "stream",
          "text": [
            "jose13\n",
            "josejose sosa cardenas\n"
          ],
          "name": "stdout"
        }
      ]
    },
    {
      "cell_type": "code",
      "metadata": {
        "id": "D2Xt0x2eAOFt",
        "outputId": "a27b7144-7307-48e8-bdc6-316af2db7245",
        "colab": {
          "base_uri": "https://localhost:8080/",
          "height": 72
        }
      },
      "source": [
        "#con formato-> Su nombre es Jose y su edad es de 13 años.\n",
        "print(\"Su nombre es\",nombre,\"y su edad es de\", edad,\"años.\")\n",
        "print(\"Su nombre es {0} y su edad es de {1} años.\".format(nombre,edad) )\n",
        "print(\"Su nombre es {1} y su edad es de {0} años.\".format(nombre,edad) )"
      ],
      "execution_count": 12,
      "outputs": [
        {
          "output_type": "stream",
          "text": [
            "Su nombre es jose y su edad es de 13 años.\n",
            "Su nombre es jose y su edad es de 13 años.\n",
            "Su nombre es 13 y su edad es de jose años.\n"
          ],
          "name": "stdout"
        }
      ]
    },
    {
      "cell_type": "code",
      "metadata": {
        "id": "wb8h925JBtDG",
        "outputId": "bbf86077-9d10-456c-fb92-cbfda75d64dc",
        "colab": {
          "base_uri": "https://localhost:8080/",
          "height": 35
        }
      },
      "source": [
        "#con formato con el operador f\"\"\n",
        "\n",
        "print (f\"Su nombre es \\\"{nombre}\\\" y su edad es de {edad}años.\")"
      ],
      "execution_count": 14,
      "outputs": [
        {
          "output_type": "stream",
          "text": [
            "Su nombre es \"jose\" y su edad es de 13años.\n"
          ],
          "name": "stdout"
        }
      ]
    },
    {
      "cell_type": "markdown",
      "metadata": {
        "id": "Jdry3KzuCPNy"
      },
      "source": [
        "#Caracter de escape\n",
        "\\n salto de linea\n",
        "\\t tabulador\n",
        "\\a beep\n",
        "\\\" imprimir comilla doble\n",
        "\\'imprimir comilla simple"
      ]
    },
    {
      "cell_type": "code",
      "metadata": {
        "id": "WzRb3MRtDJgZ",
        "outputId": "266c8f91-9c7e-4a1f-ea50-a3667e906284",
        "colab": {
          "base_uri": "https://localhost:8080/",
          "height": 54
        }
      },
      "source": [
        "\"\"\"\n",
        "Esto es \n",
        "un comentario\n",
        "de multiple linea\n",
        "tan tan\n",
        "\"\"\"\n",
        "print (f\"\\tMi nombre es\\n\\t\\t {nombre}\")"
      ],
      "execution_count": 15,
      "outputs": [
        {
          "output_type": "stream",
          "text": [
            "\tMi nombre es\n",
            "\t\t jose\n"
          ],
          "name": "stdout"
        }
      ]
    },
    {
      "cell_type": "markdown",
      "metadata": {
        "id": "XuKJ0grODqkq"
      },
      "source": [
        "#Ayuda de tipos de dato en python\n",
        "dir()\n",
        "help()\n",
        "#str, int, float, boool... list,dict, set\n"
      ]
    },
    {
      "cell_type": "code",
      "metadata": {
        "id": "nSgijvJIFDzK"
      },
      "source": [
        "help(str)"
      ],
      "execution_count": null,
      "outputs": []
    },
    {
      "cell_type": "code",
      "metadata": {
        "id": "4ocKh0WDFMsa",
        "outputId": "deaa700d-9203-426a-8e2f-c5c9e10fe734",
        "colab": {
          "base_uri": "https://localhost:8080/",
          "height": 54
        }
      },
      "source": [
        "print(nombre_completo.capitalize() )\n",
        "print(nombre_completo.upper() , end=\"----\" )\n",
        "print(nombre_completo.title() )"
      ],
      "execution_count": 22,
      "outputs": [
        {
          "output_type": "stream",
          "text": [
            "Jose sosa cardenas\n",
            "JOSE SOSA CARDENAS----Jose Sosa Cardenas\n"
          ],
          "name": "stdout"
        }
      ]
    },
    {
      "cell_type": "code",
      "metadata": {
        "id": "BM_JXQ0iGBDZ"
      },
      "source": [
        "help(print)"
      ],
      "execution_count": null,
      "outputs": []
    },
    {
      "cell_type": "markdown",
      "metadata": {
        "id": "J8bZKz5nGo2E"
      },
      "source": [
        "#clase String\n",
        "Es manejada como un arreglo (c o java) o lista (python)\n",
        "\n",
        "telefono = \"Huawei mate 30 pro\"\n",
        "\n"
      ]
    },
    {
      "cell_type": "code",
      "metadata": {
        "id": "fmFzJ_zxHCRZ",
        "outputId": "e92f776a-a7e9-4af1-94b9-85c9e5210d58",
        "colab": {
          "base_uri": "https://localhost:8080/",
          "height": 35
        }
      },
      "source": [
        "telefono = \"Huawei mate 30 pro\"\n",
        "print(telefono[5])"
      ],
      "execution_count": 23,
      "outputs": [
        {
          "output_type": "stream",
          "text": [
            "i\n"
          ],
          "name": "stdout"
        }
      ]
    },
    {
      "cell_type": "markdown",
      "metadata": {
        "id": "4qoAHWqCIMBA"
      },
      "source": [
        "#Slicing (rebanado)\n",
        "[inicio : stop : incremento]\n",
        "nota: el estop no se incluye, termina en el valor anterior al stop"
      ]
    },
    {
      "cell_type": "code",
      "metadata": {
        "id": "-HbkZJqKIcYQ",
        "outputId": "60350fc4-b2ab-49f3-d47a-ec6ff83592a3",
        "colab": {
          "base_uri": "https://localhost:8080/",
          "height": 108
        }
      },
      "source": [
        "print(telefono[7:11:1])\n",
        "#el inicio y el incremento son opcionales\n",
        "print(telefono[:11:])\n",
        "# el valor por defecto de stop es lent (str)\n",
        "print(telefono[::])\n",
        "#incremento negativo\n",
        "print(telefono[::-1])\n",
        "#slacing negativo\n",
        "ini = -3\n",
        "inc =1\n",
        "print(telefono[ini::inc])\n"
      ],
      "execution_count": 31,
      "outputs": [
        {
          "output_type": "stream",
          "text": [
            "mate\n",
            "Huawei mate\n",
            "Huawei mate 30 pro\n",
            "orp 03 etam iewauH\n",
            "pro\n"
          ],
          "name": "stdout"
        }
      ]
    },
    {
      "cell_type": "markdown",
      "metadata": {
        "id": "6vy2ooaONLXu"
      },
      "source": [
        "#Metodos de string (str)\n",
        "Existen metodos muy utiles en esta clase."
      ]
    },
    {
      "cell_type": "code",
      "metadata": {
        "id": "bBl7ykL8NX0h",
        "outputId": "93ba6e4d-e009-4ec8-d6fc-e2e230dee173",
        "colab": {
          "base_uri": "https://localhost:8080/",
          "height": 381
        }
      },
      "source": [
        "facultad= \"    facultad de estudios superiores aragon      \\n\"\n",
        "print (facultad)\n",
        "tamaño=len(facultad)\n",
        "print( facultad.count(\"u\"))  #cuenta el numero de elementos en la cadena\n",
        "print(facultad.find(\"s\")) \n",
        "print(facultad.strip())    #quita espacios\n",
        "print(len(facultad))       #te regresa la longitud del strip\n",
        "print(f\"tamaño de la cadena es {tamaño} caracteres\")\n",
        "print(facultad)\n",
        "print(facultad.strip().split(\" \"))\n",
        "\n",
        "print(\"-------------\")\n",
        "#copiar cadenas\n",
        "otra_cadena = facultad\n",
        "print(otra_cadena)\n",
        "facultad = \"FES Aragon\"\n",
        "print(facultad)\n",
        "print(otra_cadena)\n",
        "\n",
        "#copiar listas\n",
        "colores = [\"rojo\",\"verde\"]\n",
        "otra = colores\n",
        "print (colores)\n",
        "print (otra)\n",
        "otra.append (\"rosa\")\n",
        "print(colores)\n",
        "print(otra)"
      ],
      "execution_count": 52,
      "outputs": [
        {
          "output_type": "stream",
          "text": [
            "    facultad de estudios superiores aragon      \n",
            "\n",
            "3\n",
            "17\n",
            "facultad de estudios superiores aragon\n",
            "49\n",
            "tamaño de la cadena es 49 caracteres\n",
            "    facultad de estudios superiores aragon      \n",
            "\n",
            "['facultad', 'de', 'estudios', 'superiores', 'aragon']\n",
            "-------------\n",
            "    facultad de estudios superiores aragon      \n",
            "\n",
            "FES Aragon\n",
            "    facultad de estudios superiores aragon      \n",
            "\n",
            "['rojo', 'verde']\n",
            "['rojo', 'verde']\n",
            "['rojo', 'verde', 'rosa']\n",
            "['rojo', 'verde', 'rosa']\n"
          ],
          "name": "stdout"
        }
      ]
    }
  ]
}