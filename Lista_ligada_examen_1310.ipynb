{
  "nbformat": 4,
  "nbformat_minor": 0,
  "metadata": {
    "colab": {
      "name": "Lista_ligada_examen.ipynb",
      "provenance": [],
      "authorship_tag": "ABX9TyPYtB6rdef2kAp1oyGH8Ti8",
      "include_colab_link": true
    },
    "kernelspec": {
      "name": "python3",
      "display_name": "Python 3"
    }
  },
  "cells": [
    {
      "cell_type": "markdown",
      "metadata": {
        "id": "view-in-github",
        "colab_type": "text"
      },
      "source": [
        "<a href=\"https://colab.research.google.com/github/alda444/edd_1310_2021/blob/master/Lista_ligada_examen_1310.ipynb\" target=\"_parent\"><img src=\"https://colab.research.google.com/assets/colab-badge.svg\" alt=\"Open In Colab\"/></a>"
      ]
    },
    {
      "cell_type": "code",
      "metadata": {
        "colab": {
          "base_uri": "https://localhost:8080/"
        },
        "id": "gP33pQ4g1ZZ8",
        "outputId": "7d04eda5-704b-46e4-e567-8f6776a68fe0"
      },
      "source": [
        "class Nodo:\r\n",
        "    def __init__(self, value, siguiente = None):\r\n",
        "        self.data = value\r\n",
        "        self.siguiente = siguiente\r\n",
        "\r\n",
        "class LinkedList:\r\n",
        "    def __init__(self):\r\n",
        "        self.head = None\r\n",
        "\r\n",
        "    def append(self, value):\r\n",
        "        nuevo = Nodo(value)\r\n",
        "        if self.head == None:\r\n",
        "            self.head = nuevo\r\n",
        "        else:\r\n",
        "            curr_node = self.head\r\n",
        "            while curr_node.siguiente != None:\r\n",
        "                curr_node = curr_node.siguiente\r\n",
        "            curr_node.siguiente = nuevo\r\n",
        "\r\n",
        "    def transversal(self):\r\n",
        "        curr_node = self.head\r\n",
        "        while curr_node != None:\r\n",
        "            print(f\"{curr_node.data} -->\", end=\"\")\r\n",
        "            curr_node = curr_node.siguiente\r\n",
        "        print(\"\")\r\n",
        "\r\n",
        "    def remove( self , value ):\r\n",
        "        curr_node = self.head\r\n",
        "        if self.head.data == value:\r\n",
        "            self.head = self.head.siguiente\r\n",
        "        else:\r\n",
        "            anterior = None\r\n",
        "            while curr_node.data != value and curr_node.siguiente != None:\r\n",
        "                anterior = curr_node\r\n",
        "                curr_node= curr_node.siguiente\r\n",
        "            if curr_node.data == value:\r\n",
        "                anterior.siguiente = curr_node.siguiente\r\n",
        "            else:\r\n",
        "                print(\"El dato no esta en la lista\")\r\n",
        "\r\n",
        "    def insert(self, value, posicion):\r\n",
        "        nuevo = Nodo(value)\r\n",
        "        if posicion == 0:\r\n",
        "            nuevo.siguiente = self.head\r\n",
        "            self.head = nuevo\r\n",
        "        else:\r\n",
        "            curr_nodo = self.head\r\n",
        "            x = 1\r\n",
        "            while curr_nodo.siguiente is not None and x < posicion:\r\n",
        "                curr_nodo = curr_nodo.siguiente\r\n",
        "                x += 1\r\n",
        "            nuevo.siguiente = curr_nodo.siguiente\r\n",
        "            curr_nodo.siguiente = nuevo\r\n",
        "\r\n",
        "l1 = LinkedList()\r\n",
        "l1.append(26)\r\n",
        "l1.append(15)\r\n",
        "l1.append(80)\r\n",
        "l1.append(10)\r\n",
        "l1.transversal()\r\n",
        "l1.insert(28, 2)\r\n",
        "l1.transversal()\r\n",
        "l1.remove(15)\r\n",
        "l1.transversal()"
      ],
      "execution_count": 1,
      "outputs": [
        {
          "output_type": "stream",
          "text": [
            "26 -->15 -->80 -->10 -->\n",
            "26 -->15 -->28 -->80 -->10 -->\n",
            "26 -->28 -->80 -->10 -->\n"
          ],
          "name": "stdout"
        }
      ]
    }
  ]
}