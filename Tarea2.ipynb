{
  "nbformat": 4,
  "nbformat_minor": 0,
  "metadata": {
    "colab": {
      "name": "Tarea2.ipynb",
      "provenance": [],
      "include_colab_link": true
    },
    "kernelspec": {
      "name": "python3",
      "display_name": "Python 3"
    }
  },
  "cells": [
    {
      "cell_type": "markdown",
      "metadata": {
        "id": "view-in-github",
        "colab_type": "text"
      },
      "source": [
        "<a href=\"https://colab.research.google.com/github/alda444/edd_1310_2021/blob/master/Tarea2.ipynb\" target=\"_parent\"><img src=\"https://colab.research.google.com/assets/colab-badge.svg\" alt=\"Open In Colab\"/></a>"
      ]
    },
    {
      "cell_type": "code",
      "metadata": {
        "id": "DMnoNHtS50Nq",
        "outputId": "8cdb8025-d813-4bff-8761-bcb7467259af",
        "colab": {
          "base_uri": "https://localhost:8080/",
          "height": 54
        }
      },
      "source": [
        "otro = open('Datos.txt',\"rt\")\n",
        "con = 0\n",
        "data = []\n",
        "while (data != ''):\n",
        "  data= otro.readline().replace(\" \", \"\")\n",
        "  datos = datos + data.lstrip().split(',')\n",
        "print(datos)"
      ],
      "execution_count": null,
      "outputs": [
        {
          "output_type": "stream",
          "text": [
            "['1', '2', '1', '14', '29', '45', '5', '58', '56', '10', '29', '14', '88', '17', '4', '3', '1', '7', '12', '10\\n', '2', '23', '5', '8', '44', '2', '2', '13', '5', '9', '10', '16', '98', '76', '47', '1', '1', '3', '2\\n', '3', '87', '15', '11', '9', '7', '90', '97', '21', '3', '4', '1', '8', '88', '74', '32', '34', '43', '17', '77', '93\\n', '4', '46', '8', '1', '6', '2', '10', '37', '84', '4', '5', '9', '10', '2', '6', '31', '1', '1', '8', '4', '20', '33', '23', '18', '45\\n', '55', '3', '2', '29', '58', '83', '9', '17', '1', '43', '20', '93', '31', '46', '43', '77', '8', '44', '45', '17', '62\\n', '6', '74', '13', '44', '18', '45', '11', '93', '2', '1', '1', '1', '25', '1', '42', '18', '22', '44', '52\\n', '7', '88', '93', '6', '54', '2', '8', '1', '41', '86', '79', '33', '48', '9', '32', '63', '18', '7', '33', '2', '1', '16', '11', '7\\n', '8', '0', '22', '17', '30', '6', '2', '12', '47', '37', '34', '85', '47', '33', '2', '6', '8', '4', '5', '29', '30', '42', '77', '2\\n', '9', '2', '3', '4', '1', '1', '3', '6', '7', '7', '8', '9', '5', '1', '3', '4', '9', '10', '12', '3', '1', '5', '6', '22', '11', '0', '2\\n', '1', '0', '2', '55', '9', '3', '55', '23', '1', '6', '9', '4', '5', '3', '3', '2', '1', '3', '8', '1', '6', '10', '0', '1', '5', '1', '3', '']\n"
          ],
          "name": "stdout"
        }
      ]
    },
    {
      "cell_type": "code",
      "metadata": {
        "id": "Z5JfPlxRKVIs",
        "outputId": "8d66f8ce-b819-466a-ebf9-f42f9b9d0558",
        "colab": {
          "base_uri": "https://localhost:8080/",
          "height": 187
        }
      },
      "source": [
        "suma = 0\n",
        "suma2 = 0\n",
        "contador = 1\n",
        "for j in range(len(datos)):\n",
        "  if (datos[j] == datos[j].strip(\"\\n\") != True):\n",
        "    if (datos[j]==''):\n",
        "      datos.remove(datos[j])\n",
        "    else:\n",
        "      suma = suma + int(datos[j])\n",
        "      suma2 = suma2 + int(datos[j])\n",
        "  else:\n",
        "    datos[j] = datos[j].strip(\"\\n\")\n",
        "    suma = suma + int(datos[j])\n",
        "    suma2 = suma2 + int(datos[j])\n",
        "    print(\"La suma del renglon \" + str(contador) + \" es: \" +str(suma))\n",
        "    suma = 0\n",
        "    contador = contador +1\n",
        "print(\"La suma total es \" + str(suma2))"
      ],
      "execution_count": null,
      "outputs": [
        {
          "output_type": "stream",
          "text": [
            "La suma del renglon 1 es: 406\n",
            "La suma del renglon 2 es: 367\n",
            "La suma del renglon 3 es: 814\n",
            "La suma del renglon 4 es: 418\n",
            "La suma del renglon 5 es: 786\n",
            "La suma del renglon 6 es: 513\n",
            "La suma del renglon 7 es: 745\n",
            "La suma del renglon 8 es: 585\n",
            "La suma del renglon 9 es: 154\n",
            "La suma total es 5008\n"
          ],
          "name": "stdout"
        }
      ]
    }
  ]
}