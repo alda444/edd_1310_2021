{
  "nbformat": 4,
  "nbformat_minor": 0,
  "metadata": {
    "colab": {
      "name": "27octubre_1310.ipynb",
      "provenance": [],
      "authorship_tag": "ABX9TyOuUEtfUbwVLiD4HChCHR+1",
      "include_colab_link": true
    },
    "kernelspec": {
      "name": "python3",
      "display_name": "Python 3"
    }
  },
  "cells": [
    {
      "cell_type": "markdown",
      "metadata": {
        "id": "view-in-github",
        "colab_type": "text"
      },
      "source": [
        "<a href=\"https://colab.research.google.com/github/alda444/edd_1310_2021/blob/master/27octubre_1310.ipynb\" target=\"_parent\"><img src=\"https://colab.research.google.com/assets/colab-badge.svg\" alt=\"Open In Colab\"/></a>"
      ]
    },
    {
      "cell_type": "code",
      "metadata": {
        "id": "qb9aLO5ECYOL",
        "outputId": "a9459fef-9faa-4ddc-8d6a-fa950c944952",
        "colab": {
          "base_uri": "https://localhost:8080/",
          "height": 69
        }
      },
      "source": [
        "class Computadora:\n",
        "    def __init__( self , m , p):\n",
        "        self.__marca = m\n",
        "        self.__procesador = p\n",
        "\n",
        "    def to_string( self ):\n",
        "        return \"MArca:\"+self.__marca+\" Procesador:\"+self.__procesador\n",
        "\n",
        "    def set_marca ( self ,m ):\n",
        "      self.__marca = m\n",
        "\n",
        "    def get_marca ( self ):\n",
        "      return self.__marca\n",
        "\n",
        "    def set_procesador (self, p ):\n",
        "      self.__procesador = p\n",
        "\n",
        "    def get_procesador ( self ):\n",
        "      return self.__procesador\n",
        "\n",
        "\n",
        "mi_pc = Computadora(\"Toshiba\",\"Intel i7\")\n",
        "print(mi_pc.to_string())\n",
        "mi_pc.__marca=\"HP \"  # Intentando cambiar el valor privado\n",
        "mi_pc.set_marca (\"HP co.\")\n",
        "print(mi_pc.to_string())\n",
        "#print(mi_pc.procesador)\n",
        "print(mi_pc.get_procesador())"
      ],
      "execution_count": 9,
      "outputs": [
        {
          "output_type": "stream",
          "text": [
            "MArca:Toshiba Procesador:Intel i7\n",
            "MArca:HP co. Procesador:Intel i7\n",
            "Intel i7\n"
          ],
          "name": "stdout"
        }
      ]
    },
    {
      "cell_type": "markdown",
      "metadata": {
        "id": "m3xhx5DkEH54"
      },
      "source": [
        "#encapsulamiento python 3\n",
        "##tradicional tipo Java\n",
        "  void setAtributo( Val )\n",
        "  tipo getAtributo( )\n",
        "\n",
        "##estilo python 3\n",
        "1.UTILIZANDO DECORADORES\n",
        "- @porperty\n",
        "- @atributo.setter"
      ]
    },
    {
      "cell_type": "code",
      "metadata": {
        "id": "5kBLtKYJHyTi",
        "outputId": "b5c9a5b9-03f8-4818-a882-81907280468c",
        "colab": {
          "base_uri": "https://localhost:8080/",
          "height": 103
        }
      },
      "source": [
        "class Computadora: \n",
        "  def __init__(self, m , p):\n",
        "    self.marca = m # de manda llamar el docorador @property\n",
        "    self.procesador = p #idem\n",
        "  @property       #declara vomo atributo privado y funciona como método get\n",
        "  def marca(self):\n",
        "    return self.__marca\n",
        "\n",
        "  @marca.setter\n",
        "  def marca(self, m):\n",
        "    print(\"En el setter de MARCA\")\n",
        "    self.__marca = m\n",
        "\n",
        "  @property\n",
        "  def procesador( self ):\n",
        "    return self.__procesador\n",
        "  \n",
        "  @procesador.setter\n",
        "  def procesador (self, p):\n",
        "    print(\"En el metodo set de procesador\")\n",
        "    self.__procesador = p\n",
        "\n",
        "  def to_string(self):\n",
        "    return \"marca: \" + self.marca + \" Procesador:\" + self.procesador\n",
        "\n",
        "mi_pc2 = Computadora(\"Mac book pro\", \"Intel i7\")\n",
        "print(mi_pc2.to_string())\n",
        "mi_pc2.marca = \"Dell\"\n",
        "print(mi_pc2.to_string())\n"
      ],
      "execution_count": 30,
      "outputs": [
        {
          "output_type": "stream",
          "text": [
            "En el setter de MARCA\n",
            "En el metodo set de procesador\n",
            "marca: Mac book pro Procesador:Intel i7\n",
            "En el setter de MARCA\n",
            "marca: Dell Procesador:Intel i7\n"
          ],
          "name": "stdout"
        }
      ]
    },
    {
      "cell_type": "code",
      "metadata": {
        "id": "TkVn917aQhe_",
        "outputId": "b5c8477b-27a5-49e1-bd41-78899fe06bbf",
        "colab": {
          "base_uri": "https://localhost:8080/",
          "height": 86
        }
      },
      "source": [
        "# herencia, pasando la clase base a la declaracion\n",
        "class ServidorEmpresarial( Computadora ):\n",
        "    def __init__( self ):\n",
        "      print (\"Hola servidor\")\n",
        "\n",
        "server = ServidorEmpresarial()\n",
        "server.marca=\"Sun Micro Systems\"\n",
        "server.procesador = \"intel i7\"\n",
        "print(server.to_string())\n"
      ],
      "execution_count": 45,
      "outputs": [
        {
          "output_type": "stream",
          "text": [
            "Hola servidor\n",
            "En el setter de MARCA\n",
            "En el metodo set de procesador\n",
            "marca: Sun Micro Systems Procesador:intel i7\n"
          ],
          "name": "stdout"
        }
      ]
    }
  ]
}